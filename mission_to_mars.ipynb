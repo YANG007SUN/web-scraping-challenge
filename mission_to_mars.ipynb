{
 "cells": [
  {
   "cell_type": "code",
   "execution_count": 313,
   "metadata": {},
   "outputs": [],
   "source": [
    "from bs4 import BeautifulSoup as bs\n",
    "from splinter import Browser\n",
    "from splinter.exceptions import ElementDoesNotExist\n",
    "import requests\n",
    "import re\n",
    "import pandas as pd"
   ]
  },
  {
   "cell_type": "markdown",
   "metadata": {},
   "source": [
    "## Scrape NASA Mars news titles and paragraph"
   ]
  },
  {
   "cell_type": "code",
   "execution_count": 135,
   "metadata": {},
   "outputs": [],
   "source": [
    "# open browser\n",
    "executable_path = {'executable_path': '/usr/local/bin/chromedriver'}\n",
    "browser = Browser('chrome', **executable_path, headless=False)\n",
    "\n",
    "url = \"https://mars.nasa.gov/news/\"\n",
    "browser.visit(url)\n"
   ]
  },
  {
   "cell_type": "code",
   "execution_count": 141,
   "metadata": {},
   "outputs": [],
   "source": [
    "# create soup object\n",
    "html = browser.html\n",
    "soup = bs(html, \"html5lib\")\n"
   ]
  },
  {
   "cell_type": "code",
   "execution_count": 171,
   "metadata": {},
   "outputs": [],
   "source": [
    "# scrape data and save into list\n",
    "news_title =[]\n",
    "news_p = []\n",
    "\n",
    "list_of_titles = soup.find(\"ul\",\"item_list\").find_all(\"div\",\"content_title\")\n",
    "list_of_p = soup.find(\"ul\",\"item_list\").find_all(\"div\",\"article_teaser_body\")\n",
    "\n",
    "for title, paragraph in zip(list_of_titles, list_of_p):\n",
    "    try:\n",
    "        news_title.append(title.text)\n",
    "        news_p.append(paragraph.text)\n",
    "    except:\n",
    "        print(\"----error----\")\n",
    "\n",
    "        \n"
   ]
  },
  {
   "cell_type": "markdown",
   "metadata": {},
   "source": [
    "## Scrape NASA Mars project Images"
   ]
  },
  {
   "cell_type": "code",
   "execution_count": 193,
   "metadata": {},
   "outputs": [],
   "source": [
    "# open browser and scrape images\n",
    "executable_path = {'executable_path': '/usr/local/bin/chromedriver'}\n",
    "browser = Browser('chrome', **executable_path, headless=False)\n",
    "\n",
    "image_url = \"https://www.jpl.nasa.gov/spaceimages/?search=&category=Mars\"\n",
    "browser.visit(image_url)"
   ]
  },
  {
   "cell_type": "code",
   "execution_count": 194,
   "metadata": {},
   "outputs": [],
   "source": [
    "# scrape soup object\n",
    "html = browser.html\n",
    "soup = bs(html, \"html5lib\")\n"
   ]
  },
  {
   "cell_type": "code",
   "execution_count": 227,
   "metadata": {},
   "outputs": [],
   "source": [
    "# scrape image url and store into a list\n",
    "image_list = soup.find(\"section\",\"grid_gallery\").find_all(\"li\",\"slide\")\n",
    "part_url = \"https://www.jpl.nasa.gov/\"\n",
    "image_url = []\n",
    "\n",
    "for image in image_list:\n",
    "    try:\n",
    "        url_img = image.find('img', {'src':re.compile('.jpg')})[\"src\"]\n",
    "        full_image_url = part_url+url_img\n",
    "        image_url.append(full_image_url)\n",
    "    except:\n",
    "        print(\"----error----\")\n"
   ]
  },
  {
   "cell_type": "markdown",
   "metadata": {},
   "source": [
    "## Scrape Mars weather twitter"
   ]
  },
  {
   "cell_type": "code",
   "execution_count": 298,
   "metadata": {},
   "outputs": [],
   "source": [
    "# open browser and scrape twitter\n",
    "executable_path = {'executable_path': '/usr/local/bin/chromedriver'}\n",
    "browser = Browser('chrome', **executable_path, headless=False)\n",
    "\n",
    "weather_url = \"https://twitter.com/marswxreport?lang=en\"\n",
    "browser.visit(weather_url)"
   ]
  },
  {
   "cell_type": "code",
   "execution_count": 299,
   "metadata": {},
   "outputs": [],
   "source": [
    "# scrape soup object\n",
    "html = browser.html\n",
    "soup = bs(html, \"html5lib\")"
   ]
  },
  {
   "cell_type": "code",
   "execution_count": 310,
   "metadata": {},
   "outputs": [],
   "source": [
    "twitters = soup.find_all(\"div\",\"css-1dbjc4n\")"
   ]
  },
  {
   "cell_type": "code",
   "execution_count": 311,
   "metadata": {},
   "outputs": [
    {
     "name": "stdout",
     "output_type": "stream",
     "text": [
      "=========\n"
     ]
    }
   ],
   "source": [
    "mars_weather = []\n",
    "for index, twit in enumerate(twitters):\n",
    "    \n",
    "    try:\n",
    "        if twit.span:\n",
    "            tweet = twit.find(\"span\",\"css-901oao\").text\n",
    "            if tweet[0:11] == \"InSight sol\" and (tweet not in mars_weather) :\n",
    "                mars_weather.append(tweet)\n",
    "    except:\n",
    "        print(\"=========\")\n",
    "\n",
    "        \n",
    "        "
   ]
  },
  {
   "cell_type": "markdown",
   "metadata": {},
   "source": [
    "## Scrape Mars facts"
   ]
  },
  {
   "cell_type": "code",
   "execution_count": 339,
   "metadata": {},
   "outputs": [],
   "source": [
    "# use pandas to scrape table\n",
    "url = \"https://space-facts.com/mars/\"\n",
    "fact_table = pd.read_html(url)[0]\n",
    "fact_table = fact_table.rename(columns = {0:\"Metric\",1:\"Value\"}).set_index(\"Metric\")\n",
    "fact_table_html = fact_table.to_html()\n"
   ]
  },
  {
   "cell_type": "markdown",
   "metadata": {},
   "source": [
    "## Scrape Mars Hemispheres"
   ]
  },
  {
   "cell_type": "code",
   "execution_count": 385,
   "metadata": {},
   "outputs": [],
   "source": [
    "# open browser and scrape images and titles\n",
    "executable_path = {'executable_path': '/usr/local/bin/chromedriver'}\n",
    "browser = Browser('chrome', **executable_path, headless=False)\n",
    "\n",
    "hemisphere_urls = \"https://astrogeology.usgs.gov/search/results?q=hemisphere+enhanced&k1=target&v1=Mars\"\n",
    "browser.visit(hemisphere_urls)"
   ]
  },
  {
   "cell_type": "code",
   "execution_count": 386,
   "metadata": {},
   "outputs": [],
   "source": [
    "# scrape soup object\n",
    "html = browser.html\n",
    "soup = bs(html, \"html5lib\")"
   ]
  },
  {
   "cell_type": "code",
   "execution_count": 387,
   "metadata": {},
   "outputs": [
    {
     "data": {
      "text/plain": [
       "'Cerberus Hemisphere Enhanced'"
      ]
     },
     "execution_count": 387,
     "metadata": {},
     "output_type": "execute_result"
    }
   ],
   "source": [
    "# get list of titles and then click into each url to get full rev images\n",
    "base_url = \"https://astrogeology.usgs.gov\"\n",
    "titles = soup.find_all(\"div\",\"description\")\n",
    "titles[0].h3.text"
   ]
  },
  {
   "cell_type": "code",
   "execution_count": 388,
   "metadata": {},
   "outputs": [],
   "source": [
    "title_list = []\n",
    "image_url = []\n",
    "for title in titles:\n",
    "    try:\n",
    "        title_list.append(title.h3.text)\n",
    "        my_link = base_url+title.a[\"href\"]\n",
    "        \n",
    "        # click the title link\n",
    "        browser.links.find_by_partial_text(title.h3.text).click()\n",
    "        \n",
    "        # scrape image url\n",
    "        new_html = browser.html\n",
    "        new_soup = bs(new_html, \"html5lib\")\n",
    "        # try to get image url\n",
    "        try:\n",
    "            img_url = new_soup.find(\"div\",\"downloads\").find(\"li\").a[\"href\"]\n",
    "            image_url.append(img_url)\n",
    "        except:\n",
    "            print(\"----Image error----\")\n",
    "        \n",
    "        # go back \n",
    "        browser.back()\n",
    "        \n",
    "        \n",
    "    except:\n",
    "        print(\"----error----\")\n",
    "    "
   ]
  },
  {
   "cell_type": "code",
   "execution_count": 408,
   "metadata": {},
   "outputs": [
    {
     "data": {
      "text/plain": [
       "[{'title': 'Cerberus Hemisphere Enhanced',\n",
       "  'img_url': 'https://astropedia.astrogeology.usgs.gov/download/Mars/Viking/cerberus_enhanced.tif/full.jpg'},\n",
       " {'title': 'Schiaparelli Hemisphere Enhanced',\n",
       "  'img_url': 'https://astropedia.astrogeology.usgs.gov/download/Mars/Viking/schiaparelli_enhanced.tif/full.jpg'},\n",
       " {'title': 'Syrtis Major Hemisphere Enhanced',\n",
       "  'img_url': 'https://astropedia.astrogeology.usgs.gov/download/Mars/Viking/syrtis_major_enhanced.tif/full.jpg'},\n",
       " {'title': 'Valles Marineris Hemisphere Enhanced',\n",
       "  'img_url': 'https://astropedia.astrogeology.usgs.gov/download/Mars/Viking/valles_marineris_enhanced.tif/full.jpg'}]"
      ]
     },
     "execution_count": 408,
     "metadata": {},
     "output_type": "execute_result"
    }
   ],
   "source": [
    "# save title and image url into list of dict\n",
    "for i in range(len(title_list)):\n",
    "    dict_list = {\"title\":title_list[i],\"img_url\":image_url[i]}\n",
    "    hemisphere_image_urls.append(dict_list)\n",
    "\n",
    "hemisphere_image_urls"
   ]
  },
  {
   "cell_type": "code",
   "execution_count": null,
   "metadata": {},
   "outputs": [],
   "source": []
  },
  {
   "cell_type": "code",
   "execution_count": null,
   "metadata": {},
   "outputs": [],
   "source": []
  }
 ],
 "metadata": {
  "kernelspec": {
   "display_name": "Python 3",
   "language": "python",
   "name": "python3"
  },
  "language_info": {
   "codemirror_mode": {
    "name": "ipython",
    "version": 3
   },
   "file_extension": ".py",
   "mimetype": "text/x-python",
   "name": "python",
   "nbconvert_exporter": "python",
   "pygments_lexer": "ipython3",
   "version": "3.7.6"
  }
 },
 "nbformat": 4,
 "nbformat_minor": 4
}
