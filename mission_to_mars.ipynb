{
 "cells": [
  {
   "cell_type": "code",
   "execution_count": 409,
   "metadata": {},
   "outputs": [],
   "source": [
    "from bs4 import BeautifulSoup as bs\n",
    "from splinter import Browser\n",
    "from splinter.exceptions import ElementDoesNotExist\n",
    "import requests\n",
    "import re\n",
    "import pandas as pd"
   ]
  },
  {
   "cell_type": "markdown",
   "metadata": {},
   "source": [
    "## Scrape NASA Mars news titles and paragraph"
   ]
  },
  {
   "cell_type": "code",
   "execution_count": 434,
   "metadata": {},
   "outputs": [],
   "source": [
    "# open browser\n",
    "executable_path = {'executable_path': '/usr/local/bin/chromedriver'}\n",
    "browser = Browser('chrome', **executable_path, headless=False)\n",
    "\n",
    "url = \"https://mars.nasa.gov/news/\"\n",
    "browser.visit(url)\n"
   ]
  },
  {
   "cell_type": "code",
   "execution_count": 419,
   "metadata": {},
   "outputs": [],
   "source": [
    "# create soup object\n",
    "html = browser.html\n",
    "soup = bs(html, \"html5lib\")\n"
   ]
  },
  {
   "cell_type": "code",
   "execution_count": null,
   "metadata": {},
   "outputs": [],
   "source": [
    "list_of_titles"
   ]
  },
  {
   "cell_type": "code",
   "execution_count": 421,
   "metadata": {},
   "outputs": [
    {
     "data": {
      "text/plain": [
       "[\"How NASA's Mars Helicopter Will Reach the Red Planet's Surface\",\n",
       " \"The Launch Is Approaching for NASA's Next Mars Rover, Perseverance\",\n",
       " 'NASA to Hold Mars 2020 Perseverance Rover Launch Briefing',\n",
       " \"While Stargazing on Mars, NASA's Curiosity Rover Spots Earth and Venus\",\n",
       " \"NASA's Mars Rover Drivers Need Your Help\",\n",
       " \"Three New Views of Mars' Moon Phobos\",\n",
       " \"The Extraordinary Sample-Gathering System of NASA's Perseverance Mars Rover\",\n",
       " \"The Detective Aboard NASA's Perseverance Rover\",\n",
       " 'MAVEN Maps Electric Currents around Mars that are Fundamental to Atmospheric Loss',\n",
       " \"Air Deliveries Bring NASA's Perseverance Mars Rover Closer to Launch\",\n",
       " \"NASA Wins 4 Webbys, 4 People's Voice Awards\",\n",
       " \"NASA's Perseverance Rover Goes Through Trials by Fire, Ice, Light and Sound\",\n",
       " \"NASA's Perseverance Rover Mission Getting in Shape for Launch\",\n",
       " 'NASA Perseverance Mars Rover Scientists Train in the Nevada Desert',\n",
       " \"NASA's Perseverance Rover Will Look at Mars Through These 'Eyes'\",\n",
       " \"Meet the People Behind NASA's Perseverance Rover\",\n",
       " \"Q&A with the Student Who Named Ingenuity, NASA's Mars Helicopter\",\n",
       " \"Alabama High School Student Names NASA's Mars Helicopter\",\n",
       " \"How NASA's Perseverance Mars Team Adjusted to Work in the Time of Coronavirus \",\n",
       " \"NASA's Perseverance Mars Rover Gets Balanced\",\n",
       " \"NASA's Curiosity Keeps Rolling As Team Operates Rover From Home\",\n",
       " \"Mars Helicopter Attached to NASA's Perseverance Rover\",\n",
       " \"NASA's Perseverance Mars Rover Gets Its Wheels and Air Brakes\",\n",
       " 'The Man Who Wanted to Fly on Mars',\n",
       " \"10.9 Million Names Now Aboard NASA's Perseverance Mars Rover\",\n",
       " \"NASA's Curiosity Mars Rover Takes a New Selfie Before Record Climb\",\n",
       " \"NASA's Mars Perseverance Rover Gets Its Sample Handling System\",\n",
       " \"Virginia Middle School Student Earns Honor of Naming NASA's Next Mars Rover\",\n",
       " \"NASA's Curiosity Mars Rover Snaps Its Highest-Resolution Panorama Yet\",\n",
       " 'NASA to Reveal Name of Its Next Mars Rover',\n",
       " 'The MarCO Mission Comes to an End',\n",
       " \"A Year of Surprising Science From NASA's InSight Mars Mission\",\n",
       " \"Mars InSight Lander to Push on Top of the 'Mole'\",\n",
       " \"Common Questions about InSight's 'Mole'\",\n",
       " 'NASA Adds Return Sample Scientists to Mars 2020 Leadership Team',\n",
       " \"NASA's Mars Reconnaissance Orbiter Undergoes Memory Update\",\n",
       " \"NASA's Mars 2020 Rover Goes Coast-to-Coast to Prep for Launch\",\n",
       " 'NASA Prepares for Moon and Mars With New Addition to Its Deep Space Network',\n",
       " 'NASA Administrator Statement on Moon to Mars Initiative, FY 2021 Budget',\n",
       " \"All About the Laser (and Microphone) Atop Mars 2020, NASA's Next Rover\"]"
      ]
     },
     "execution_count": 421,
     "metadata": {},
     "output_type": "execute_result"
    }
   ],
   "source": [
    "# scrape data and save into list\n",
    "news_title =[]\n",
    "news_p = []\n",
    "\n",
    "list_of_titles = soup.find(\"ul\",\"item_list\").find_all(\"div\",\"content_title\")\n",
    "list_of_p = soup.find(\"ul\",\"item_list\").find_all(\"div\",\"article_teaser_body\")\n",
    "\n",
    "for title, paragraph in zip(list_of_titles, list_of_p):\n",
    "    try:\n",
    "        news_title.append(title.text)\n",
    "        news_p.append(paragraph.text)\n",
    "    except:\n",
    "        print(\"----error----\")\n",
    "\n",
    "        \n"
   ]
  },
  {
   "cell_type": "markdown",
   "metadata": {},
   "source": [
    "## Scrape NASA Mars project Images"
   ]
  },
  {
   "cell_type": "code",
   "execution_count": 193,
   "metadata": {},
   "outputs": [],
   "source": [
    "# open browser and scrape images\n",
    "executable_path = {'executable_path': '/usr/local/bin/chromedriver'}\n",
    "browser = Browser('chrome', **executable_path, headless=False)\n",
    "\n",
    "image_url = \"https://www.jpl.nasa.gov/spaceimages/?search=&category=Mars\"\n",
    "browser.visit(image_url)"
   ]
  },
  {
   "cell_type": "code",
   "execution_count": 194,
   "metadata": {},
   "outputs": [],
   "source": [
    "# scrape soup object\n",
    "html = browser.html\n",
    "soup = bs(html, \"html5lib\")\n"
   ]
  },
  {
   "cell_type": "code",
   "execution_count": 227,
   "metadata": {},
   "outputs": [],
   "source": [
    "# scrape image url and store into a list\n",
    "image_list = soup.find(\"section\",\"grid_gallery\").find_all(\"li\",\"slide\")\n",
    "part_url = \"https://www.jpl.nasa.gov/\"\n",
    "image_url = []\n",
    "\n",
    "for image in image_list:\n",
    "    try:\n",
    "        url_img = image.find('img', {'src':re.compile('.jpg')})[\"src\"]\n",
    "        full_image_url = part_url+url_img\n",
    "        image_url.append(full_image_url)\n",
    "    except:\n",
    "        print(\"----error----\")\n"
   ]
  },
  {
   "cell_type": "markdown",
   "metadata": {},
   "source": [
    "## Scrape Mars weather twitter"
   ]
  },
  {
   "cell_type": "code",
   "execution_count": 423,
   "metadata": {},
   "outputs": [],
   "source": [
    "# open browser and scrape twitter\n",
    "executable_path = {'executable_path': '/usr/local/bin/chromedriver'}\n",
    "browser = Browser('chrome', **executable_path, headless=False)\n",
    "\n",
    "weather_url = \"https://twitter.com/marswxreport?lang=en\"\n",
    "browser.visit(weather_url)"
   ]
  },
  {
   "cell_type": "code",
   "execution_count": 424,
   "metadata": {},
   "outputs": [],
   "source": [
    "# scrape soup object\n",
    "html = browser.html\n",
    "soup = bs(html, \"html5lib\")"
   ]
  },
  {
   "cell_type": "code",
   "execution_count": 427,
   "metadata": {},
   "outputs": [],
   "source": [
    "twitters = soup.find_all(\"div\",\"css-1dbjc4n\")"
   ]
  },
  {
   "cell_type": "code",
   "execution_count": 311,
   "metadata": {},
   "outputs": [
    {
     "name": "stdout",
     "output_type": "stream",
     "text": [
      "=========\n"
     ]
    }
   ],
   "source": [
    "mars_weather = []\n",
    "for index, twit in enumerate(twitters):\n",
    "    \n",
    "    try:\n",
    "        if twit.span:\n",
    "            tweet = twit.find(\"span\",\"css-901oao\").text\n",
    "            if tweet[0:11] == \"InSight sol\" and (tweet not in mars_weather) :\n",
    "                mars_weather.append(tweet)\n",
    "    except:\n",
    "        print(\"=========\")\n",
    "\n",
    "        \n",
    "        "
   ]
  },
  {
   "cell_type": "markdown",
   "metadata": {},
   "source": [
    "## Scrape Mars facts"
   ]
  },
  {
   "cell_type": "code",
   "execution_count": 428,
   "metadata": {},
   "outputs": [
    {
     "data": {
      "text/html": [
       "<div>\n",
       "<style scoped>\n",
       "    .dataframe tbody tr th:only-of-type {\n",
       "        vertical-align: middle;\n",
       "    }\n",
       "\n",
       "    .dataframe tbody tr th {\n",
       "        vertical-align: top;\n",
       "    }\n",
       "\n",
       "    .dataframe thead th {\n",
       "        text-align: right;\n",
       "    }\n",
       "</style>\n",
       "<table border=\"1\" class=\"dataframe\">\n",
       "  <thead>\n",
       "    <tr style=\"text-align: right;\">\n",
       "      <th></th>\n",
       "      <th>Value</th>\n",
       "    </tr>\n",
       "    <tr>\n",
       "      <th>Metric</th>\n",
       "      <th></th>\n",
       "    </tr>\n",
       "  </thead>\n",
       "  <tbody>\n",
       "    <tr>\n",
       "      <th>Equatorial Diameter:</th>\n",
       "      <td>6,792 km</td>\n",
       "    </tr>\n",
       "    <tr>\n",
       "      <th>Polar Diameter:</th>\n",
       "      <td>6,752 km</td>\n",
       "    </tr>\n",
       "    <tr>\n",
       "      <th>Mass:</th>\n",
       "      <td>6.39 × 10^23 kg (0.11 Earths)</td>\n",
       "    </tr>\n",
       "    <tr>\n",
       "      <th>Moons:</th>\n",
       "      <td>2 (Phobos &amp; Deimos)</td>\n",
       "    </tr>\n",
       "    <tr>\n",
       "      <th>Orbit Distance:</th>\n",
       "      <td>227,943,824 km (1.38 AU)</td>\n",
       "    </tr>\n",
       "    <tr>\n",
       "      <th>Orbit Period:</th>\n",
       "      <td>687 days (1.9 years)</td>\n",
       "    </tr>\n",
       "    <tr>\n",
       "      <th>Surface Temperature:</th>\n",
       "      <td>-87 to -5 °C</td>\n",
       "    </tr>\n",
       "    <tr>\n",
       "      <th>First Record:</th>\n",
       "      <td>2nd millennium BC</td>\n",
       "    </tr>\n",
       "    <tr>\n",
       "      <th>Recorded By:</th>\n",
       "      <td>Egyptian astronomers</td>\n",
       "    </tr>\n",
       "  </tbody>\n",
       "</table>\n",
       "</div>"
      ],
      "text/plain": [
       "                                              Value\n",
       "Metric                                             \n",
       "Equatorial Diameter:                       6,792 km\n",
       "Polar Diameter:                            6,752 km\n",
       "Mass:                 6.39 × 10^23 kg (0.11 Earths)\n",
       "Moons:                          2 (Phobos & Deimos)\n",
       "Orbit Distance:            227,943,824 km (1.38 AU)\n",
       "Orbit Period:                  687 days (1.9 years)\n",
       "Surface Temperature:                   -87 to -5 °C\n",
       "First Record:                     2nd millennium BC\n",
       "Recorded By:                   Egyptian astronomers"
      ]
     },
     "execution_count": 428,
     "metadata": {},
     "output_type": "execute_result"
    }
   ],
   "source": [
    "# use pandas to scrape table\n",
    "url = \"https://space-facts.com/mars/\"\n",
    "fact_table = pd.read_html(url)[0]\n",
    "fact_table = fact_table.rename(columns = {0:\"Metric\",1:\"Value\"}).set_index(\"Metric\")\n",
    "fact_table_html = fact_table.to_html()\n",
    "fact_table\n",
    "\n",
    "\n"
   ]
  },
  {
   "cell_type": "markdown",
   "metadata": {},
   "source": [
    "## Scrape Mars Hemispheres"
   ]
  },
  {
   "cell_type": "code",
   "execution_count": 435,
   "metadata": {},
   "outputs": [],
   "source": [
    "# open browser and scrape images and titles\n",
    "executable_path = {'executable_path': '/usr/local/bin/chromedriver'}\n",
    "browser = Browser('chrome', **executable_path, headless=False)\n",
    "\n",
    "hemisphere_urls = \"https://astrogeology.usgs.gov/search/results?q=hemisphere+enhanced&k1=target&v1=Mars\"\n",
    "browser.visit(hemisphere_urls)\n",
    "\n",
    "\n"
   ]
  },
  {
   "cell_type": "code",
   "execution_count": 436,
   "metadata": {},
   "outputs": [],
   "source": [
    "# scrape soup object\n",
    "html = browser.html\n",
    "soup = bs(html, \"html5lib\")\n",
    "\n"
   ]
  },
  {
   "cell_type": "code",
   "execution_count": 437,
   "metadata": {},
   "outputs": [],
   "source": [
    "# get list of titles and then click into each url to get full rev images\n",
    "base_url = \"https://astrogeology.usgs.gov\"\n",
    "titles = soup.find_all(\"div\",\"description\")\n",
    "\n"
   ]
  },
  {
   "cell_type": "code",
   "execution_count": 438,
   "metadata": {},
   "outputs": [],
   "source": [
    "title_list = []\n",
    "image_url = []\n",
    "hemisphere_image_urls = []\n",
    "for title in titles:\n",
    "    try:\n",
    "        title_list.append(title.h3.text)\n",
    "        my_link = base_url+title.a[\"href\"]\n",
    "        \n",
    "        # click the title link\n",
    "        browser.links.find_by_partial_text(title.h3.text).click()\n",
    "        \n",
    "        # scrape image url\n",
    "        new_html = browser.html\n",
    "        new_soup = bs(new_html, \"html5lib\")\n",
    "        # try to get image url\n",
    "        try:\n",
    "            img_url = new_soup.find(\"div\",\"downloads\").find(\"li\").a[\"href\"]\n",
    "            image_url.append(img_url)\n",
    "        except:\n",
    "            print(\"----Image error----\")\n",
    "        \n",
    "        # go back \n",
    "        browser.back()\n",
    "        \n",
    "        \n",
    "    except:\n",
    "        print(\"----error----\")\n",
    "    "
   ]
  },
  {
   "cell_type": "code",
   "execution_count": 439,
   "metadata": {},
   "outputs": [
    {
     "data": {
      "text/plain": [
       "[{'title': 'Cerberus Hemisphere Enhanced',\n",
       "  'img_url': 'https://astropedia.astrogeology.usgs.gov/download/Mars/Viking/cerberus_enhanced.tif/full.jpg'},\n",
       " {'title': 'Schiaparelli Hemisphere Enhanced',\n",
       "  'img_url': 'https://astropedia.astrogeology.usgs.gov/download/Mars/Viking/schiaparelli_enhanced.tif/full.jpg'},\n",
       " {'title': 'Syrtis Major Hemisphere Enhanced',\n",
       "  'img_url': 'https://astropedia.astrogeology.usgs.gov/download/Mars/Viking/syrtis_major_enhanced.tif/full.jpg'},\n",
       " {'title': 'Valles Marineris Hemisphere Enhanced',\n",
       "  'img_url': 'https://astropedia.astrogeology.usgs.gov/download/Mars/Viking/valles_marineris_enhanced.tif/full.jpg'}]"
      ]
     },
     "execution_count": 439,
     "metadata": {},
     "output_type": "execute_result"
    }
   ],
   "source": [
    "# save title and image url into list of dict\n",
    "for i in range(len(title_list)):\n",
    "    dict_list = {\"title\":title_list[i],\"img_url\":image_url[i]}\n",
    "    hemisphere_image_urls.append(dict_list)\n",
    "\n",
    "hemisphere_image_urls"
   ]
  },
  {
   "cell_type": "code",
   "execution_count": null,
   "metadata": {},
   "outputs": [],
   "source": []
  },
  {
   "cell_type": "code",
   "execution_count": null,
   "metadata": {},
   "outputs": [],
   "source": []
  }
 ],
 "metadata": {
  "kernelspec": {
   "display_name": "Python 3",
   "language": "python",
   "name": "python3"
  },
  "language_info": {
   "codemirror_mode": {
    "name": "ipython",
    "version": 3
   },
   "file_extension": ".py",
   "mimetype": "text/x-python",
   "name": "python",
   "nbconvert_exporter": "python",
   "pygments_lexer": "ipython3",
   "version": "3.7.6"
  }
 },
 "nbformat": 4,
 "nbformat_minor": 4
}
